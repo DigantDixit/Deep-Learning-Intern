{
  "nbformat": 4,
  "nbformat_minor": 0,
  "metadata": {
    "colab": {
      "name": "efficientnet.ipynb",
      "provenance": []
    },
    "kernelspec": {
      "name": "python3",
      "display_name": "Python 3"
    },
    "language_info": {
      "name": "python"
    }
  },
  "cells": [
    {
      "cell_type": "markdown",
      "source": [
        "the accuracy is arounf 50-55% if we use dense(1024)\n",
        "\n",
        "desne(256) same accuracy\n",
        "\n",
        "\n",
        "try the Xception base architecture with an Adam optimizer and a mean-squared loss function."
      ],
      "metadata": {
        "id": "I5EfG5Uso_T1"
      }
    },
    {
      "cell_type": "code",
      "execution_count": null,
      "metadata": {
        "id": "F5s4vJgFpZ9z"
      },
      "outputs": [],
      "source": [
        "import numpy as np\n",
        "import pandas as pd\n",
        "\n",
        "import keras,os\n",
        "from keras.layers import Conv2D, MaxPool2D,Dropout,Flatten,Dense\n",
        "from keras.preprocessing import image \n",
        "from keras.models import Sequential"
      ]
    },
    {
      "cell_type": "code",
      "source": [
        "train_data_gen = image.ImageDataGenerator(rescale= 1./255)\n",
        "train = train_data_gen.flow_from_directory(directory=\"/content/drive/MyDrive/x-ray data/train\" , target_size=(256,256) , batch_size=32, class_mode = 'binary')"
      ],
      "metadata": {
        "colab": {
          "base_uri": "https://localhost:8080/"
        },
        "id": "0uJLLa4wft--",
        "outputId": "fff9202f-0a8b-403c-8e7a-77998df5a62d"
      },
      "execution_count": null,
      "outputs": [
        {
          "output_type": "stream",
          "name": "stdout",
          "text": [
            "Found 4852 images belonging to 2 classes.\n"
          ]
        }
      ]
    },
    {
      "cell_type": "code",
      "source": [
        "train_data_gen = image.ImageDataGenerator(rescale= 1./255)\n",
        "test = train_data_gen.flow_from_directory(directory=\"/content/drive/MyDrive/x-ray data/test\" , target_size=(256,256) , batch_size=32,  class_mode = 'binary')"
      ],
      "metadata": {
        "colab": {
          "base_uri": "https://localhost:8080/"
        },
        "id": "BIfzR_3tgpKx",
        "outputId": "30d953db-522b-459a-98e8-99f2059919b6"
      },
      "execution_count": null,
      "outputs": [
        {
          "output_type": "stream",
          "name": "stdout",
          "text": [
            "Found 240 images belonging to 2 classes.\n"
          ]
        }
      ]
    },
    {
      "cell_type": "code",
      "source": [
        "from tensorflow.keras.applications import EfficientNetB0\n",
        "efficient = EfficientNetB0(input_shape = (256, 256, 3), include_top = False, weights = 'imagenet')"
      ],
      "metadata": {
        "id": "7qNlnzYkplpR"
      },
      "execution_count": null,
      "outputs": []
    },
    {
      "cell_type": "code",
      "source": [
        "#model.trainable = False\n",
        "\n",
        "\n"
      ],
      "metadata": {
        "id": "rKAHrvGYpxyP"
      },
      "execution_count": null,
      "outputs": []
    },
    {
      "cell_type": "code",
      "source": [
        "for layer in efficient.layers:\n",
        "    layer.trainable = False\n",
        "\n",
        "\n",
        "model=keras.Sequential([\n",
        "    efficient,\n",
        "    keras.layers.Flatten(), #flattern the above data\n",
        "    keras.layers.Dense(units=256, activation=\"relu\"),\n",
        "    keras.layers.Dense(units=256, activation=\"relu\"),\n",
        "    keras.layers.Dropout(0.5),\n",
        "    keras.layers.Dense(units=1, activation=\"sigmoid\"),\n",
        "])\n",
        "\n",
        "model.compile(optimizer=\"adam\",loss='binary_crossentropy',metrics=['accuracy'])"
      ],
      "metadata": {
        "id": "XCuP0n_zp4Md"
      },
      "execution_count": null,
      "outputs": []
    },
    {
      "cell_type": "code",
      "source": [
        "model.summary()"
      ],
      "metadata": {
        "colab": {
          "base_uri": "https://localhost:8080/"
        },
        "id": "UB1kv8WvqySe",
        "outputId": "62bc286e-a575-4497-e24c-bf92777781cf"
      },
      "execution_count": null,
      "outputs": [
        {
          "output_type": "stream",
          "name": "stdout",
          "text": [
            "Model: \"sequential_7\"\n",
            "_________________________________________________________________\n",
            " Layer (type)                Output Shape              Param #   \n",
            "=================================================================\n",
            " efficientnetb0 (Functional)  (None, 8, 8, 1280)       4049571   \n",
            "                                                                 \n",
            " flatten_7 (Flatten)         (None, 81920)             0         \n",
            "                                                                 \n",
            " dense_14 (Dense)            (None, 256)               20971776  \n",
            "                                                                 \n",
            " dense_15 (Dense)            (None, 256)               65792     \n",
            "                                                                 \n",
            " dropout_7 (Dropout)         (None, 256)               0         \n",
            "                                                                 \n",
            " dense_16 (Dense)            (None, 1)                 257       \n",
            "                                                                 \n",
            "=================================================================\n",
            "Total params: 25,087,396\n",
            "Trainable params: 21,037,825\n",
            "Non-trainable params: 4,049,571\n",
            "_________________________________________________________________\n"
          ]
        }
      ]
    },
    {
      "cell_type": "code",
      "source": [
        "model.fit_generator(train, steps_per_epoch=10,epochs=10,validation_steps=8, validation_data=test)"
      ],
      "metadata": {
        "colab": {
          "base_uri": "https://localhost:8080/"
        },
        "id": "ryerqeZQhOZT",
        "outputId": "f73dd004-e547-4c92-d0cb-63a10baea6d2"
      },
      "execution_count": null,
      "outputs": [
        {
          "output_type": "stream",
          "name": "stderr",
          "text": [
            "/usr/local/lib/python3.7/dist-packages/ipykernel_launcher.py:1: UserWarning: `Model.fit_generator` is deprecated and will be removed in a future version. Please use `Model.fit`, which supports generators.\n",
            "  \"\"\"Entry point for launching an IPython kernel.\n"
          ]
        },
        {
          "output_type": "stream",
          "name": "stdout",
          "text": [
            "Epoch 1/10\n",
            "10/10 [==============================] - 43s 4s/step - loss: 4.9278 - accuracy: 0.5688 - val_loss: 2.4323 - val_accuracy: 0.5000\n",
            "Epoch 2/10\n",
            "10/10 [==============================] - 35s 4s/step - loss: 3.2612 - accuracy: 0.5094 - val_loss: 0.8140 - val_accuracy: 0.5000\n",
            "Epoch 3/10\n",
            "10/10 [==============================] - 34s 4s/step - loss: 2.4024 - accuracy: 0.4688 - val_loss: 2.7106 - val_accuracy: 0.5000\n",
            "Epoch 4/10\n",
            "10/10 [==============================] - 35s 4s/step - loss: 1.4921 - accuracy: 0.5406 - val_loss: 0.7039 - val_accuracy: 0.5000\n",
            "Epoch 5/10\n",
            "10/10 [==============================] - 35s 4s/step - loss: 1.2658 - accuracy: 0.4969 - val_loss: 0.7062 - val_accuracy: 0.5000\n",
            "Epoch 6/10\n",
            "10/10 [==============================] - 35s 4s/step - loss: 1.1530 - accuracy: 0.5031 - val_loss: 0.6980 - val_accuracy: 0.5000\n",
            "Epoch 7/10\n",
            "10/10 [==============================] - 35s 4s/step - loss: 0.9913 - accuracy: 0.4906 - val_loss: 0.7062 - val_accuracy: 0.5000\n",
            "Epoch 8/10\n",
            "10/10 [==============================] - 34s 4s/step - loss: 0.8037 - accuracy: 0.5562 - val_loss: 0.6955 - val_accuracy: 0.5000\n",
            "Epoch 9/10\n",
            "10/10 [==============================] - 34s 4s/step - loss: 0.7722 - accuracy: 0.5875 - val_loss: 0.7331 - val_accuracy: 0.5000\n",
            "Epoch 10/10\n",
            "10/10 [==============================] - 34s 4s/step - loss: 0.8162 - accuracy: 0.5437 - val_loss: 0.6952 - val_accuracy: 0.5000\n"
          ]
        },
        {
          "output_type": "execute_result",
          "data": {
            "text/plain": [
              "<keras.callbacks.History at 0x7fc678ccf610>"
            ]
          },
          "metadata": {},
          "execution_count": 53
        }
      ]
    }
  ]
}