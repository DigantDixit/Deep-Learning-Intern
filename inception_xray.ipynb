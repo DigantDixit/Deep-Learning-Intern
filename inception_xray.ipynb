{
  "cells": [
    {
      "cell_type": "markdown",
      "metadata": {
        "id": "D_d1QMoPWcMV"
      },
      "source": [
        "## import the librarys"
      ]
    },
    {
      "cell_type": "markdown",
      "source": [
        "getting an accuracy of 90% "
      ],
      "metadata": {
        "id": "X4VbwXibgNJx"
      }
    },
    {
      "cell_type": "code",
      "execution_count": null,
      "metadata": {
        "id": "p1PPXqHMWY8d"
      },
      "outputs": [],
      "source": [
        "import numpy as np\n",
        "import pandas as pd\n",
        "\n",
        "import keras,os\n",
        "from keras.layers import Conv2D, MaxPool2D,Dropout,Flatten,Dense\n",
        "from keras.preprocessing import image \n",
        "from keras.models import Sequential\n",
        "from keras.applications.inception_v3 import InceptionV3"
      ]
    },
    {
      "cell_type": "markdown",
      "metadata": {
        "id": "KSw40QRfX-mu"
      },
      "source": [
        "##import the data"
      ]
    },
    {
      "cell_type": "code",
      "execution_count": null,
      "metadata": {
        "colab": {
          "base_uri": "https://localhost:8080/"
        },
        "id": "9xMDUIJaZYpn",
        "outputId": "5bf0b77e-85ad-4d4d-be77-489e4a82bdb0"
      },
      "outputs": [
        {
          "output_type": "stream",
          "name": "stdout",
          "text": [
            "Found 4852 images belonging to 2 classes.\n"
          ]
        }
      ],
      "source": [
        "train_data_gen = image.ImageDataGenerator(rescale= 1./255)\n",
        "train = train_data_gen.flow_from_directory(directory=\"/content/drive/MyDrive/x-ray data/train\" , target_size=(256,256) , batch_size=32, class_mode = 'binary')"
      ]
    },
    {
      "cell_type": "code",
      "execution_count": null,
      "metadata": {
        "colab": {
          "base_uri": "https://localhost:8080/"
        },
        "id": "WexxXL-XZpjy",
        "outputId": "18f59993-60c0-47b5-ac7f-eb15f64b219c"
      },
      "outputs": [
        {
          "output_type": "stream",
          "name": "stdout",
          "text": [
            "Found 240 images belonging to 2 classes.\n"
          ]
        }
      ],
      "source": [
        "train_data_gen = image.ImageDataGenerator(rescale= 1./255)\n",
        "test = train_data_gen.flow_from_directory(directory=\"/content/drive/MyDrive/x-ray data/test\" , target_size=(256,256) , batch_size=32,  class_mode = 'binary')"
      ]
    },
    {
      "cell_type": "code",
      "source": [
        "train.class_indices"
      ],
      "metadata": {
        "colab": {
          "base_uri": "https://localhost:8080/"
        },
        "id": "Vgv81yWbax8V",
        "outputId": "00a80c28-7d61-464a-9cd6-12592ff8e322"
      },
      "execution_count": null,
      "outputs": [
        {
          "output_type": "execute_result",
          "data": {
            "text/plain": [
              "{'COVID': 0, 'Normal': 1}"
            ]
          },
          "metadata": {},
          "execution_count": 22
        }
      ]
    },
    {
      "cell_type": "markdown",
      "metadata": {
        "id": "lIDpfwgtZ12n"
      },
      "source": [
        "##inception( Transfer learning)"
      ]
    },
    {
      "cell_type": "code",
      "execution_count": null,
      "metadata": {
        "id": "eE4v8HpjZ1cf"
      },
      "outputs": [],
      "source": [
        "Inception = InceptionV3(input_shape = (256, 256, 3), include_top = False, weights = 'imagenet')"
      ]
    },
    {
      "cell_type": "code",
      "execution_count": null,
      "metadata": {
        "id": "SDRPmaLDcm5R"
      },
      "outputs": [],
      "source": [
        "# Inception.trainable=False\n",
        "#for layer in Inception.layers:\n",
        "Inception.trainable = False\n",
        "\n",
        "# now 13 layers are not trainable\n",
        "# to make last 3 dense trainable layers\n",
        "model=keras.Sequential([\n",
        "    Inception,\n",
        "    keras.layers.Flatten(), #flattern the above data\n",
        "    keras.layers.Dense(units=1024, activation=\"relu\"),\n",
        "    keras.layers.Dropout(0.2),\n",
        "    keras.layers.Dense(units=1, activation=\"sigmoid\"),\n",
        "])\n",
        "\n",
        "model.compile(optimizer=\"adam\", loss=keras.losses.binary_crossentropy, metrics=['accuracy'])"
      ]
    },
    {
      "cell_type": "markdown",
      "metadata": {
        "id": "SA1DObIifkoJ"
      },
      "source": [
        "##check the model"
      ]
    },
    {
      "cell_type": "code",
      "execution_count": null,
      "metadata": {
        "colab": {
          "base_uri": "https://localhost:8080/"
        },
        "id": "hvbMyfuBfodu",
        "outputId": "22fa8c04-81f9-4323-e56d-fc34891c18cb"
      },
      "outputs": [
        {
          "output_type": "stream",
          "name": "stdout",
          "text": [
            "Model: \"sequential_4\"\n",
            "_________________________________________________________________\n",
            " Layer (type)                Output Shape              Param #   \n",
            "=================================================================\n",
            " inception_v3 (Functional)   (None, 6, 6, 2048)        21802784  \n",
            "                                                                 \n",
            " flatten_4 (Flatten)         (None, 73728)             0         \n",
            "                                                                 \n",
            " dense_8 (Dense)             (None, 1024)              75498496  \n",
            "                                                                 \n",
            " dropout_4 (Dropout)         (None, 1024)              0         \n",
            "                                                                 \n",
            " dense_9 (Dense)             (None, 1)                 1025      \n",
            "                                                                 \n",
            "=================================================================\n",
            "Total params: 97,302,305\n",
            "Trainable params: 75,499,521\n",
            "Non-trainable params: 21,802,784\n",
            "_________________________________________________________________\n"
          ]
        }
      ],
      "source": [
        "model.summary()"
      ]
    },
    {
      "cell_type": "markdown",
      "metadata": {
        "id": "nwbWHoU_f064"
      },
      "source": [
        "##train the data"
      ]
    },
    {
      "cell_type": "code",
      "execution_count": null,
      "metadata": {
        "colab": {
          "base_uri": "https://localhost:8080/"
        },
        "id": "gpJbcGFpf4L0",
        "outputId": "cec0a82b-6e63-41ae-a2d4-245529b6eeed"
      },
      "outputs": [
        {
          "output_type": "stream",
          "name": "stderr",
          "text": [
            "/usr/local/lib/python3.7/dist-packages/ipykernel_launcher.py:1: UserWarning: `Model.fit_generator` is deprecated and will be removed in a future version. Please use `Model.fit`, which supports generators.\n",
            "  \"\"\"Entry point for launching an IPython kernel.\n"
          ]
        },
        {
          "output_type": "stream",
          "name": "stdout",
          "text": [
            "Epoch 1/10\n",
            "10/10 [==============================] - 96s 9s/step - loss: 29.4938 - accuracy: 0.6031 - val_loss: 12.2790 - val_accuracy: 0.6292\n",
            "Epoch 2/10\n",
            "10/10 [==============================] - 88s 9s/step - loss: 7.9069 - accuracy: 0.7219 - val_loss: 10.0731 - val_accuracy: 0.6792\n",
            "Epoch 3/10\n",
            "10/10 [==============================] - 88s 9s/step - loss: 5.4472 - accuracy: 0.7937 - val_loss: 6.2176 - val_accuracy: 0.7250\n",
            "Epoch 4/10\n",
            "10/10 [==============================] - 88s 9s/step - loss: 3.9813 - accuracy: 0.8062 - val_loss: 2.3738 - val_accuracy: 0.8708\n",
            "Epoch 5/10\n",
            "10/10 [==============================] - 86s 9s/step - loss: 2.9888 - accuracy: 0.8313 - val_loss: 2.0401 - val_accuracy: 0.8708\n",
            "Epoch 6/10\n",
            "10/10 [==============================] - 87s 9s/step - loss: 1.5104 - accuracy: 0.8625 - val_loss: 1.2951 - val_accuracy: 0.8875\n",
            "Epoch 7/10\n",
            "10/10 [==============================] - 86s 9s/step - loss: 1.1431 - accuracy: 0.8906 - val_loss: 0.8932 - val_accuracy: 0.9000\n",
            "Epoch 8/10\n",
            "10/10 [==============================] - 83s 9s/step - loss: 1.5077 - accuracy: 0.8409 - val_loss: 0.9033 - val_accuracy: 0.8792\n",
            "Epoch 9/10\n",
            "10/10 [==============================] - 85s 9s/step - loss: 0.7176 - accuracy: 0.8687 - val_loss: 0.8098 - val_accuracy: 0.8667\n",
            "Epoch 10/10\n",
            "10/10 [==============================] - 85s 9s/step - loss: 0.5694 - accuracy: 0.8813 - val_loss: 0.4473 - val_accuracy: 0.9000\n"
          ]
        },
        {
          "output_type": "execute_result",
          "data": {
            "text/plain": [
              "<keras.callbacks.History at 0x7fdcf7213490>"
            ]
          },
          "metadata": {},
          "execution_count": 26
        }
      ],
      "source": [
        "model.fit_generator(train, steps_per_epoch=10,epochs=10,validation_steps=8, validation_data=test)"
      ]
    },
    {
      "cell_type": "markdown",
      "metadata": {
        "id": "O0XqncgPaskj"
      },
      "source": [
        "## random image"
      ]
    },
    {
      "cell_type": "markdown",
      "metadata": {
        "id": "AfS0uSZKf6zu"
      },
      "source": [
        "non covid random image"
      ]
    },
    {
      "cell_type": "code",
      "execution_count": null,
      "metadata": {
        "colab": {
          "base_uri": "https://localhost:8080/"
        },
        "id": "ii1V4iQsav9y",
        "outputId": "1e32f645-6c0c-472c-9d9e-76fd229aaacc"
      },
      "outputs": [
        {
          "output_type": "execute_result",
          "data": {
            "text/plain": [
              "(1, 256, 256, 3)"
            ]
          },
          "metadata": {},
          "execution_count": 27
        }
      ],
      "source": [
        "path= \"/content/normal.jpeg\"\n",
        "img=image.load_img(path,target_size=(256,256))\n",
        "img= image.img_to_array(img)/255\n",
        "img=np.array([img])\n",
        "img.shape"
      ]
    },
    {
      "cell_type": "code",
      "execution_count": null,
      "metadata": {
        "colab": {
          "base_uri": "https://localhost:8080/"
        },
        "id": "Qw83EAZqd7jB",
        "outputId": "ff0f8e41-7b3a-4f91-fb71-6d1f8b3a88e6"
      },
      "outputs": [
        {
          "output_type": "execute_result",
          "data": {
            "text/plain": [
              "array([[1.]], dtype=float32)"
            ]
          },
          "metadata": {},
          "execution_count": 28
        }
      ],
      "source": [
        "model.predict(img)"
      ]
    },
    {
      "cell_type": "markdown",
      "metadata": {
        "id": "j0hYMYDEf9zB"
      },
      "source": [
        "covid image"
      ]
    },
    {
      "cell_type": "code",
      "execution_count": null,
      "metadata": {
        "colab": {
          "base_uri": "https://localhost:8080/",
          "height": 380
        },
        "id": "OWmTpGZuerbt",
        "outputId": "14707d0f-84b6-4234-d47c-07d5a0b3bb83"
      },
      "outputs": [
        {
          "output_type": "error",
          "ename": "FileNotFoundError",
          "evalue": "ignored",
          "traceback": [
            "\u001b[0;31m---------------------------------------------------------------------------\u001b[0m",
            "\u001b[0;31mFileNotFoundError\u001b[0m                         Traceback (most recent call last)",
            "\u001b[0;32m<ipython-input-23-4804836ec79d>\u001b[0m in \u001b[0;36m<module>\u001b[0;34m()\u001b[0m\n\u001b[1;32m      1\u001b[0m \u001b[0mpath\u001b[0m\u001b[0;34m=\u001b[0m \u001b[0;34m\"/content/COVID-3322.png\"\u001b[0m\u001b[0;34m\u001b[0m\u001b[0;34m\u001b[0m\u001b[0m\n\u001b[0;32m----> 2\u001b[0;31m \u001b[0mimg\u001b[0m\u001b[0;34m=\u001b[0m\u001b[0mimage\u001b[0m\u001b[0;34m.\u001b[0m\u001b[0mload_img\u001b[0m\u001b[0;34m(\u001b[0m\u001b[0mpath\u001b[0m\u001b[0;34m,\u001b[0m\u001b[0mtarget_size\u001b[0m\u001b[0;34m=\u001b[0m\u001b[0;34m(\u001b[0m\u001b[0;36m256\u001b[0m\u001b[0;34m,\u001b[0m\u001b[0;36m256\u001b[0m\u001b[0;34m)\u001b[0m\u001b[0;34m)\u001b[0m\u001b[0;34m\u001b[0m\u001b[0;34m\u001b[0m\u001b[0m\n\u001b[0m\u001b[1;32m      3\u001b[0m \u001b[0mimg\u001b[0m\u001b[0;34m=\u001b[0m \u001b[0mimage\u001b[0m\u001b[0;34m.\u001b[0m\u001b[0mimg_to_array\u001b[0m\u001b[0;34m(\u001b[0m\u001b[0mimg\u001b[0m\u001b[0;34m)\u001b[0m\u001b[0;34m/\u001b[0m\u001b[0;36m255\u001b[0m\u001b[0;34m\u001b[0m\u001b[0;34m\u001b[0m\u001b[0m\n\u001b[1;32m      4\u001b[0m \u001b[0mimg\u001b[0m\u001b[0;34m=\u001b[0m\u001b[0mnp\u001b[0m\u001b[0;34m.\u001b[0m\u001b[0marray\u001b[0m\u001b[0;34m(\u001b[0m\u001b[0;34m[\u001b[0m\u001b[0mimg\u001b[0m\u001b[0;34m]\u001b[0m\u001b[0;34m)\u001b[0m\u001b[0;34m\u001b[0m\u001b[0;34m\u001b[0m\u001b[0m\n\u001b[1;32m      5\u001b[0m \u001b[0mimg\u001b[0m\u001b[0;34m.\u001b[0m\u001b[0mshape\u001b[0m\u001b[0;34m\u001b[0m\u001b[0;34m\u001b[0m\u001b[0m\n",
            "\u001b[0;32m/usr/local/lib/python3.7/dist-packages/keras/preprocessing/image.py\u001b[0m in \u001b[0;36mload_img\u001b[0;34m(path, grayscale, color_mode, target_size, interpolation)\u001b[0m\n\u001b[1;32m    312\u001b[0m   \"\"\"\n\u001b[1;32m    313\u001b[0m   return image.load_img(path, grayscale=grayscale, color_mode=color_mode,\n\u001b[0;32m--> 314\u001b[0;31m                         target_size=target_size, interpolation=interpolation)\n\u001b[0m\u001b[1;32m    315\u001b[0m \u001b[0;34m\u001b[0m\u001b[0m\n\u001b[1;32m    316\u001b[0m \u001b[0;34m\u001b[0m\u001b[0m\n",
            "\u001b[0;32m/usr/local/lib/python3.7/dist-packages/keras_preprocessing/image/utils.py\u001b[0m in \u001b[0;36mload_img\u001b[0;34m(path, grayscale, color_mode, target_size, interpolation)\u001b[0m\n\u001b[1;32m    111\u001b[0m         raise ImportError('Could not import PIL.Image. '\n\u001b[1;32m    112\u001b[0m                           'The use of `load_img` requires PIL.')\n\u001b[0;32m--> 113\u001b[0;31m     \u001b[0;32mwith\u001b[0m \u001b[0mopen\u001b[0m\u001b[0;34m(\u001b[0m\u001b[0mpath\u001b[0m\u001b[0;34m,\u001b[0m \u001b[0;34m'rb'\u001b[0m\u001b[0;34m)\u001b[0m \u001b[0;32mas\u001b[0m \u001b[0mf\u001b[0m\u001b[0;34m:\u001b[0m\u001b[0;34m\u001b[0m\u001b[0;34m\u001b[0m\u001b[0m\n\u001b[0m\u001b[1;32m    114\u001b[0m         \u001b[0mimg\u001b[0m \u001b[0;34m=\u001b[0m \u001b[0mpil_image\u001b[0m\u001b[0;34m.\u001b[0m\u001b[0mopen\u001b[0m\u001b[0;34m(\u001b[0m\u001b[0mio\u001b[0m\u001b[0;34m.\u001b[0m\u001b[0mBytesIO\u001b[0m\u001b[0;34m(\u001b[0m\u001b[0mf\u001b[0m\u001b[0;34m.\u001b[0m\u001b[0mread\u001b[0m\u001b[0;34m(\u001b[0m\u001b[0;34m)\u001b[0m\u001b[0;34m)\u001b[0m\u001b[0;34m)\u001b[0m\u001b[0;34m\u001b[0m\u001b[0;34m\u001b[0m\u001b[0m\n\u001b[1;32m    115\u001b[0m         \u001b[0;32mif\u001b[0m \u001b[0mcolor_mode\u001b[0m \u001b[0;34m==\u001b[0m \u001b[0;34m'grayscale'\u001b[0m\u001b[0;34m:\u001b[0m\u001b[0;34m\u001b[0m\u001b[0;34m\u001b[0m\u001b[0m\n",
            "\u001b[0;31mFileNotFoundError\u001b[0m: [Errno 2] No such file or directory: '/content/COVID-3322.png'"
          ]
        }
      ],
      "source": [
        "path= \"/content/COVID-3322.png\"\n",
        "img=image.load_img(path,target_size=(256,256))\n",
        "img= image.img_to_array(img)/255\n",
        "img=np.array([img])\n",
        "img.shape"
      ]
    },
    {
      "cell_type": "code",
      "execution_count": null,
      "metadata": {
        "colab": {
          "base_uri": "https://localhost:8080/"
        },
        "id": "Hy02_wbDexye",
        "outputId": "f203d001-bfcf-4c7f-a1a0-5f5a2b53da7b"
      },
      "outputs": [
        {
          "data": {
            "text/plain": [
              "array([[0.99888986, 0.0011101 ]], dtype=float32)"
            ]
          },
          "execution_count": 19,
          "metadata": {},
          "output_type": "execute_result"
        }
      ],
      "source": [
        "model.predict(img)"
      ]
    }
  ],
  "metadata": {
    "colab": {
      "name": "inception-xray.ipynb",
      "provenance": []
    },
    "kernelspec": {
      "display_name": "Python 3",
      "name": "python3"
    },
    "language_info": {
      "name": "python"
    }
  },
  "nbformat": 4,
  "nbformat_minor": 0
}