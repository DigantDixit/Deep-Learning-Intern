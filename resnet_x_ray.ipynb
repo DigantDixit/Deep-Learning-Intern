{
  "nbformat": 4,
  "nbformat_minor": 0,
  "metadata": {
    "colab": {
      "name": "resnet_x-ray.ipynb",
      "provenance": []
    },
    "kernelspec": {
      "name": "python3",
      "display_name": "Python 3"
    },
    "language_info": {
      "name": "python"
    }
  },
  "cells": [
    {
      "cell_type": "markdown",
      "metadata": {
        "id": "D_d1QMoPWcMV"
      },
      "source": [
        "## import the librarys"
      ]
    },
    {
      "cell_type": "markdown",
      "source": [
        "the accuracy is around 70%"
      ],
      "metadata": {
        "id": "AgVpfk-jq5I4"
      }
    },
    {
      "cell_type": "code",
      "execution_count": null,
      "metadata": {
        "id": "p1PPXqHMWY8d"
      },
      "outputs": [],
      "source": [
        "import numpy as np\n",
        "import pandas as pd\n",
        "import matplotlib.pyplot as plt\n",
        "\n",
        "import keras,os\n",
        "from keras.layers import Conv2D, MaxPool2D,Dropout,Flatten,Dense\n",
        "from keras.preprocessing import image \n",
        "from keras.models import Sequential\n",
        "from keras.applications.resnet import ResNet50\n"
      ]
    },
    {
      "cell_type": "markdown",
      "metadata": {
        "id": "KSw40QRfX-mu"
      },
      "source": [
        "##import the data"
      ]
    },
    {
      "cell_type": "code",
      "execution_count": null,
      "metadata": {
        "colab": {
          "base_uri": "https://localhost:8080/"
        },
        "id": "9xMDUIJaZYpn",
        "outputId": "1ed87443-b63c-4cc7-9456-2d7b346626b0"
      },
      "outputs": [
        {
          "output_type": "stream",
          "name": "stdout",
          "text": [
            "Found 4852 images belonging to 2 classes.\n"
          ]
        }
      ],
      "source": [
        "train_data_gen = image.ImageDataGenerator(rescale= 1./255)\n",
        "train = train_data_gen.flow_from_directory(directory=\"/content/drive/MyDrive/x-ray data/train\" , target_size=(256,256) , batch_size=32,class_mode= 'binary')"
      ]
    },
    {
      "cell_type": "code",
      "source": [
        "train.class_indices"
      ],
      "metadata": {
        "colab": {
          "base_uri": "https://localhost:8080/"
        },
        "id": "l-wrAmKwhNvm",
        "outputId": "6c1ac4f7-7b32-4e6d-cac4-408a48bfd311"
      },
      "execution_count": null,
      "outputs": [
        {
          "output_type": "execute_result",
          "data": {
            "text/plain": [
              "{'COVID': 0, 'Normal': 1}"
            ]
          },
          "metadata": {},
          "execution_count": 17
        }
      ]
    },
    {
      "cell_type": "code",
      "execution_count": null,
      "metadata": {
        "colab": {
          "base_uri": "https://localhost:8080/"
        },
        "id": "WexxXL-XZpjy",
        "outputId": "c06fc479-b20a-44d7-b6c1-ba0685a67e2b"
      },
      "outputs": [
        {
          "output_type": "stream",
          "name": "stdout",
          "text": [
            "Found 240 images belonging to 2 classes.\n"
          ]
        }
      ],
      "source": [
        "train_data_gen = image.ImageDataGenerator(rescale= 1./255)\n",
        "test = train_data_gen.flow_from_directory(directory=\"/content/drive/MyDrive/x-ray data/test\" , target_size=(256,256) , batch_size=32,class_mode= 'binary')"
      ]
    },
    {
      "cell_type": "code",
      "source": [
        "test.class_indices"
      ],
      "metadata": {
        "id": "HKTYW8kmhQPI",
        "outputId": "38026c21-8a84-4670-95c9-e18efd46c02e",
        "colab": {
          "base_uri": "https://localhost:8080/"
        }
      },
      "execution_count": null,
      "outputs": [
        {
          "output_type": "execute_result",
          "data": {
            "text/plain": [
              "{'COVID': 0, 'Normal': 1}"
            ]
          },
          "metadata": {},
          "execution_count": 18
        }
      ]
    },
    {
      "cell_type": "markdown",
      "metadata": {
        "id": "lIDpfwgtZ12n"
      },
      "source": [
        "##resnet_x( Transfer learning)"
      ]
    },
    {
      "cell_type": "code",
      "source": [
        "resnet_model = Sequential()\n",
        "\n",
        "pretrained_model= ResNet50(include_top=False,\n",
        "                   input_shape=(256,256,3),\n",
        "                   pooling='avg',\n",
        "                   weights='imagenet')\n",
        "for layer in pretrained_model.layers:\n",
        "        layer.trainable=False\n",
        "\n",
        "resnet_model.add(pretrained_model)"
      ],
      "metadata": {
        "id": "Rwp836Q9VXSZ",
        "colab": {
          "base_uri": "https://localhost:8080/"
        },
        "outputId": "d053742d-d809-475a-ec86-6f127547bcd6"
      },
      "execution_count": null,
      "outputs": [
        {
          "output_type": "stream",
          "name": "stdout",
          "text": [
            "Downloading data from https://storage.googleapis.com/tensorflow/keras-applications/resnet/resnet50_weights_tf_dim_ordering_tf_kernels_notop.h5\n",
            "94773248/94765736 [==============================] - 1s 0us/step\n",
            "94781440/94765736 [==============================] - 1s 0us/step\n"
          ]
        }
      ]
    },
    {
      "cell_type": "code",
      "source": [
        "resnet_model.add(Flatten())\n",
        "resnet_model.add(Dense(512, activation='relu'))\n",
        "resnet_model.add(Dense(1, activation='sigmoid'))"
      ],
      "metadata": {
        "id": "Y7M7JzZgV2Wz"
      },
      "execution_count": null,
      "outputs": []
    },
    {
      "cell_type": "code",
      "source": [
        "\n",
        "resnet_model.compile(loss=keras.losses.binary_crossentropy, optimizer=\"adam\",metrics=['acc'])"
      ],
      "metadata": {
        "id": "9Bxjvyd8PJlW"
      },
      "execution_count": null,
      "outputs": []
    },
    {
      "cell_type": "markdown",
      "metadata": {
        "id": "SA1DObIifkoJ"
      },
      "source": [
        "##check the model"
      ]
    },
    {
      "cell_type": "code",
      "execution_count": null,
      "metadata": {
        "colab": {
          "base_uri": "https://localhost:8080/"
        },
        "id": "hvbMyfuBfodu",
        "outputId": "e6671dd8-e4e5-46b3-caf7-26194c8d5228"
      },
      "outputs": [
        {
          "output_type": "stream",
          "name": "stdout",
          "text": [
            "Model: \"sequential\"\n",
            "_________________________________________________________________\n",
            " Layer (type)                Output Shape              Param #   \n",
            "=================================================================\n",
            " resnet50 (Functional)       (None, 2048)              23587712  \n",
            "                                                                 \n",
            " flatten (Flatten)           (None, 2048)              0         \n",
            "                                                                 \n",
            " dense (Dense)               (None, 512)               1049088   \n",
            "                                                                 \n",
            " dense_1 (Dense)             (None, 1)                 513       \n",
            "                                                                 \n",
            "=================================================================\n",
            "Total params: 24,637,313\n",
            "Trainable params: 1,049,601\n",
            "Non-trainable params: 23,587,712\n",
            "_________________________________________________________________\n"
          ]
        }
      ],
      "source": [
        "resnet_model.summary()"
      ]
    },
    {
      "cell_type": "markdown",
      "metadata": {
        "id": "nwbWHoU_f064"
      },
      "source": [
        "##train the data"
      ]
    },
    {
      "cell_type": "code",
      "execution_count": null,
      "metadata": {
        "colab": {
          "base_uri": "https://localhost:8080/"
        },
        "id": "gpJbcGFpf4L0",
        "outputId": "bd0b5522-8906-4910-d473-ab2e56ba5555"
      },
      "outputs": [
        {
          "output_type": "stream",
          "name": "stderr",
          "text": [
            "/usr/local/lib/python3.7/dist-packages/ipykernel_launcher.py:1: UserWarning: `Model.fit_generator` is deprecated and will be removed in a future version. Please use `Model.fit`, which supports generators.\n",
            "  \"\"\"Entry point for launching an IPython kernel.\n"
          ]
        },
        {
          "output_type": "stream",
          "name": "stdout",
          "text": [
            "Epoch 1/10\n",
            "10/10 [==============================] - 174s 16s/step - loss: 0.9942 - acc: 0.5063 - val_loss: 1.1469 - val_acc: 0.5000\n",
            "Epoch 2/10\n",
            "10/10 [==============================] - 115s 12s/step - loss: 0.7902 - acc: 0.5031 - val_loss: 0.7852 - val_acc: 0.5000\n",
            "Epoch 3/10\n",
            "10/10 [==============================] - 115s 12s/step - loss: 0.6722 - acc: 0.6344 - val_loss: 0.7122 - val_acc: 0.5000\n",
            "Epoch 4/10\n",
            "10/10 [==============================] - 115s 11s/step - loss: 0.6269 - acc: 0.6656 - val_loss: 0.7621 - val_acc: 0.5000\n",
            "Epoch 5/10\n",
            "10/10 [==============================] - 114s 11s/step - loss: 0.6828 - acc: 0.5312 - val_loss: 0.6517 - val_acc: 0.5917\n",
            "Epoch 6/10\n",
            "10/10 [==============================] - 114s 11s/step - loss: 0.6338 - acc: 0.6656 - val_loss: 0.6289 - val_acc: 0.6708\n",
            "Epoch 7/10\n",
            "10/10 [==============================] - 112s 11s/step - loss: 0.6470 - acc: 0.6156 - val_loss: 0.6619 - val_acc: 0.5583\n",
            "Epoch 8/10\n",
            "10/10 [==============================] - 112s 11s/step - loss: 0.6391 - acc: 0.6594 - val_loss: 0.6190 - val_acc: 0.6542\n",
            "Epoch 9/10\n",
            "10/10 [==============================] - 112s 11s/step - loss: 0.6439 - acc: 0.6344 - val_loss: 0.6058 - val_acc: 0.6750\n",
            "Epoch 10/10\n",
            "10/10 [==============================] - 112s 11s/step - loss: 0.6254 - acc: 0.6469 - val_loss: 0.5924 - val_acc: 0.6958\n"
          ]
        },
        {
          "output_type": "execute_result",
          "data": {
            "text/plain": [
              "<keras.callbacks.History at 0x7f1b7b3776d0>"
            ]
          },
          "metadata": {},
          "execution_count": 9
        }
      ],
      "source": [
        "resnet_model.fit_generator(train, steps_per_epoch=10,epochs=10,validation_steps=8, validation_data=test)"
      ]
    },
    {
      "cell_type": "code",
      "source": [
        "# list all data in history\n",
        "#print(history.history.keys())\n",
        "keras.callbacks.History()"
      ],
      "metadata": {
        "colab": {
          "base_uri": "https://localhost:8080/"
        },
        "id": "6KXVk2KbpGaP",
        "outputId": "c2bc188b-18b6-4966-ae06-c5f51d844c91"
      },
      "execution_count": null,
      "outputs": [
        {
          "output_type": "execute_result",
          "data": {
            "text/plain": [
              "<keras.callbacks.History at 0x7f2d359746d0>"
            ]
          },
          "metadata": {},
          "execution_count": 77
        }
      ]
    },
    {
      "cell_type": "code",
      "source": [
        "#history = resnet_model.fit(np.arange(100).reshape(5, 20), np.zeros(5),epochs=10)\n",
        "print(history.params)"
      ],
      "metadata": {
        "colab": {
          "base_uri": "https://localhost:8080/",
          "height": 182
        },
        "id": "7T_jnUCAqGHk",
        "outputId": "aaf84e06-d2df-4f84-b149-8484a82af6c8"
      },
      "execution_count": null,
      "outputs": [
        {
          "output_type": "error",
          "ename": "NameError",
          "evalue": "ignored",
          "traceback": [
            "\u001b[0;31m---------------------------------------------------------------------------\u001b[0m",
            "\u001b[0;31mNameError\u001b[0m                                 Traceback (most recent call last)",
            "\u001b[0;32m<ipython-input-81-2c81f35015f0>\u001b[0m in \u001b[0;36m<module>\u001b[0;34m()\u001b[0m\n\u001b[1;32m      1\u001b[0m \u001b[0;31m#history = resnet_model.fit(np.arange(100).reshape(5, 20), np.zeros(5),epochs=10)\u001b[0m\u001b[0;34m\u001b[0m\u001b[0;34m\u001b[0m\u001b[0;34m\u001b[0m\u001b[0m\n\u001b[0;32m----> 2\u001b[0;31m \u001b[0mprint\u001b[0m\u001b[0;34m(\u001b[0m\u001b[0mhistory\u001b[0m\u001b[0;34m.\u001b[0m\u001b[0mparams\u001b[0m\u001b[0;34m)\u001b[0m\u001b[0;34m\u001b[0m\u001b[0;34m\u001b[0m\u001b[0m\n\u001b[0m",
            "\u001b[0;31mNameError\u001b[0m: name 'history' is not defined"
          ]
        }
      ]
    },
    {
      "cell_type": "code",
      "source": [
        "loss_train = history.history['acc']\n",
        "loss_val = history.history['val_acc']\n",
        "epochs = range(1,11)\n",
        "plt.plot(epochs, loss_train, 'g', label='Training accuracy')\n",
        "plt.plot(epochs, loss_val, 'b', label='validation accuracy')\n",
        "plt.title('Training and Validation accuracy')\n",
        "plt.xlabel('Epochs')\n",
        "plt.ylabel('Accuracy')\n",
        "plt.legend()\n",
        "plt.show()"
      ],
      "metadata": {
        "colab": {
          "base_uri": "https://localhost:8080/",
          "height": 234
        },
        "id": "T-UZRRonfQlM",
        "outputId": "3ca6ba25-f62a-4975-b8f1-32e2ce4dcd4c"
      },
      "execution_count": null,
      "outputs": [
        {
          "output_type": "error",
          "ename": "NameError",
          "evalue": "ignored",
          "traceback": [
            "\u001b[0;31m---------------------------------------------------------------------------\u001b[0m",
            "\u001b[0;31mNameError\u001b[0m                                 Traceback (most recent call last)",
            "\u001b[0;32m<ipython-input-74-c377693888dd>\u001b[0m in \u001b[0;36m<module>\u001b[0;34m()\u001b[0m\n\u001b[0;32m----> 1\u001b[0;31m \u001b[0mloss_train\u001b[0m \u001b[0;34m=\u001b[0m \u001b[0mhistory\u001b[0m\u001b[0;34m.\u001b[0m\u001b[0mhistory\u001b[0m\u001b[0;34m[\u001b[0m\u001b[0;34m'acc'\u001b[0m\u001b[0;34m]\u001b[0m\u001b[0;34m\u001b[0m\u001b[0;34m\u001b[0m\u001b[0m\n\u001b[0m\u001b[1;32m      2\u001b[0m \u001b[0mloss_val\u001b[0m \u001b[0;34m=\u001b[0m \u001b[0mhistory\u001b[0m\u001b[0;34m.\u001b[0m\u001b[0mhistory\u001b[0m\u001b[0;34m[\u001b[0m\u001b[0;34m'val_acc'\u001b[0m\u001b[0;34m]\u001b[0m\u001b[0;34m\u001b[0m\u001b[0;34m\u001b[0m\u001b[0m\n\u001b[1;32m      3\u001b[0m \u001b[0mepochs\u001b[0m \u001b[0;34m=\u001b[0m \u001b[0mrange\u001b[0m\u001b[0;34m(\u001b[0m\u001b[0;36m1\u001b[0m\u001b[0;34m,\u001b[0m\u001b[0;36m11\u001b[0m\u001b[0;34m)\u001b[0m\u001b[0;34m\u001b[0m\u001b[0;34m\u001b[0m\u001b[0m\n\u001b[1;32m      4\u001b[0m \u001b[0mplt\u001b[0m\u001b[0;34m.\u001b[0m\u001b[0mplot\u001b[0m\u001b[0;34m(\u001b[0m\u001b[0mepochs\u001b[0m\u001b[0;34m,\u001b[0m \u001b[0mloss_train\u001b[0m\u001b[0;34m,\u001b[0m \u001b[0;34m'g'\u001b[0m\u001b[0;34m,\u001b[0m \u001b[0mlabel\u001b[0m\u001b[0;34m=\u001b[0m\u001b[0;34m'Training accuracy'\u001b[0m\u001b[0;34m)\u001b[0m\u001b[0;34m\u001b[0m\u001b[0;34m\u001b[0m\u001b[0m\n\u001b[1;32m      5\u001b[0m \u001b[0mplt\u001b[0m\u001b[0;34m.\u001b[0m\u001b[0mplot\u001b[0m\u001b[0;34m(\u001b[0m\u001b[0mepochs\u001b[0m\u001b[0;34m,\u001b[0m \u001b[0mloss_val\u001b[0m\u001b[0;34m,\u001b[0m \u001b[0;34m'b'\u001b[0m\u001b[0;34m,\u001b[0m \u001b[0mlabel\u001b[0m\u001b[0;34m=\u001b[0m\u001b[0;34m'validation accuracy'\u001b[0m\u001b[0;34m)\u001b[0m\u001b[0;34m\u001b[0m\u001b[0;34m\u001b[0m\u001b[0m\n",
            "\u001b[0;31mNameError\u001b[0m: name 'history' is not defined"
          ]
        }
      ]
    },
    {
      "cell_type": "markdown",
      "source": [
        "## random image"
      ],
      "metadata": {
        "id": "O0XqncgPaskj"
      }
    },
    {
      "cell_type": "markdown",
      "source": [
        "non covid random image"
      ],
      "metadata": {
        "id": "AfS0uSZKf6zu"
      }
    },
    {
      "cell_type": "code",
      "source": [
        "path= \"/content/normal.jpeg\"\n",
        "img=image.load_img(path,target_size=(256,256))\n",
        "img= image.img_to_array(img)/255\n",
        "img=np.array([img])\n",
        "img.shape"
      ],
      "metadata": {
        "colab": {
          "base_uri": "https://localhost:8080/"
        },
        "id": "ii1V4iQsav9y",
        "outputId": "73969587-f2d0-46d1-d04a-ad8f885bb480"
      },
      "execution_count": null,
      "outputs": [
        {
          "output_type": "execute_result",
          "data": {
            "text/plain": [
              "(1, 256, 256, 3)"
            ]
          },
          "metadata": {},
          "execution_count": 10
        }
      ]
    },
    {
      "cell_type": "code",
      "source": [
        "resnet_model.predict(img)"
      ],
      "metadata": {
        "colab": {
          "base_uri": "https://localhost:8080/"
        },
        "id": "Qw83EAZqd7jB",
        "outputId": "892325e5-73ce-40ad-c90d-ccc862a18a15"
      },
      "execution_count": null,
      "outputs": [
        {
          "output_type": "execute_result",
          "data": {
            "text/plain": [
              "array([[0.4165893]], dtype=float32)"
            ]
          },
          "metadata": {},
          "execution_count": 13
        }
      ]
    },
    {
      "cell_type": "markdown",
      "source": [
        "covid image"
      ],
      "metadata": {
        "id": "j0hYMYDEf9zB"
      }
    },
    {
      "cell_type": "code",
      "source": [
        "path= \"/content/pneumonia.jpeg\"\n",
        "img=image.load_img(path,target_size=(256,256))\n",
        "img= image.img_to_array(img)/255\n",
        "img=np.array([img])\n",
        "img.shape"
      ],
      "metadata": {
        "colab": {
          "base_uri": "https://localhost:8080/"
        },
        "id": "OWmTpGZuerbt",
        "outputId": "2b3292ee-9677-4ff2-dc99-c592f4d51327"
      },
      "execution_count": null,
      "outputs": [
        {
          "output_type": "execute_result",
          "data": {
            "text/plain": [
              "(1, 256, 256, 3)"
            ]
          },
          "metadata": {},
          "execution_count": 14
        }
      ]
    },
    {
      "cell_type": "code",
      "source": [
        "resnet_model.predict(img)"
      ],
      "metadata": {
        "colab": {
          "base_uri": "https://localhost:8080/"
        },
        "id": "Hy02_wbDexye",
        "outputId": "05ca518f-2b28-454b-c045-47ba63fe084e"
      },
      "execution_count": null,
      "outputs": [
        {
          "output_type": "execute_result",
          "data": {
            "text/plain": [
              "array([[0.36021176]], dtype=float32)"
            ]
          },
          "metadata": {},
          "execution_count": 16
        }
      ]
    }
  ]
}