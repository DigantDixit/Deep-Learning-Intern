{
  "cells": [
    {
      "cell_type": "markdown",
      "metadata": {
        "id": "D_d1QMoPWcMV"
      },
      "source": [
        "## import the librarys"
      ]
    },
    {
      "cell_type": "code",
      "execution_count": null,
      "metadata": {
        "id": "p1PPXqHMWY8d"
      },
      "outputs": [],
      "source": [
        "import numpy as np\n",
        "import pandas as pd\n",
        "\n",
        "import keras,os\n",
        "from keras.layers import Conv2D, MaxPool2D,Dropout,Flatten,Dense\n",
        "from keras.preprocessing import image \n",
        "from keras.models import Sequential\n",
        "from keras.applications.vgg16 import VGG16"
      ]
    },
    {
      "cell_type": "markdown",
      "metadata": {
        "id": "KSw40QRfX-mu"
      },
      "source": [
        "##import the data"
      ]
    },
    {
      "cell_type": "code",
      "execution_count": null,
      "metadata": {
        "colab": {
          "base_uri": "https://localhost:8080/"
        },
        "id": "9xMDUIJaZYpn",
        "outputId": "34671802-1821-4ff3-c432-6739a0a3ff6b"
      },
      "outputs": [
        {
          "output_type": "stream",
          "name": "stdout",
          "text": [
            "Found 4852 images belonging to 2 classes.\n"
          ]
        }
      ],
      "source": [
        "train_data_gen = image.ImageDataGenerator(rescale= 1./255)\n",
        "train = train_data_gen.flow_from_directory(directory=\"/content/drive/MyDrive/x-ray data/train\" , target_size=(256,256) , batch_size=32)"
      ]
    },
    {
      "cell_type": "code",
      "execution_count": null,
      "metadata": {
        "colab": {
          "base_uri": "https://localhost:8080/"
        },
        "id": "WexxXL-XZpjy",
        "outputId": "34ffae9c-eb2c-4ca9-dde4-c4294a0d588d"
      },
      "outputs": [
        {
          "output_type": "stream",
          "name": "stdout",
          "text": [
            "Found 240 images belonging to 2 classes.\n"
          ]
        }
      ],
      "source": [
        "train_data_gen = image.ImageDataGenerator(rescale= 1./255)\n",
        "test = train_data_gen.flow_from_directory(directory=\"/content/drive/MyDrive/x-ray data/test\" , target_size=(256,256) , batch_size=32)"
      ]
    },
    {
      "cell_type": "markdown",
      "metadata": {
        "id": "lIDpfwgtZ12n"
      },
      "source": [
        "##vgg-16( Transfer learning)"
      ]
    },
    {
      "cell_type": "code",
      "execution_count": null,
      "metadata": {
        "id": "eE4v8HpjZ1cf",
        "colab": {
          "base_uri": "https://localhost:8080/"
        },
        "outputId": "3253e92b-2e62-4ebb-e1a7-58e45a8dbc4b"
      },
      "outputs": [
        {
          "output_type": "stream",
          "name": "stdout",
          "text": [
            "Downloading data from https://storage.googleapis.com/tensorflow/keras-applications/vgg16/vgg16_weights_tf_dim_ordering_tf_kernels_notop.h5\n",
            "58892288/58889256 [==============================] - 1s 0us/step\n",
            "58900480/58889256 [==============================] - 1s 0us/step\n"
          ]
        }
      ],
      "source": [
        "VGG=VGG16(input_shape=(256,256,3),include_top=False, weights='imagenet')"
      ]
    },
    {
      "cell_type": "code",
      "execution_count": null,
      "metadata": {
        "id": "SDRPmaLDcm5R"
      },
      "outputs": [],
      "source": [
        "VGG.trainable=False\n",
        "# now 13 layers are not trainable\n",
        "# to make last 3 dense trainable layers\n",
        "model=keras.Sequential([\n",
        "    VGG,\n",
        "    keras.layers.Flatten(), #flattern the above data\n",
        "    keras.layers.Dense(units=256, activation=\"relu\"),\n",
        "    keras.layers.Dense(units=256, activation=\"relu\"),\n",
        "    keras.layers.Dense(units=2, activation=\"softmax\"),\n",
        "])\n",
        "\n",
        "model.compile(optimizer=\"adam\", loss=keras.losses.categorical_crossentropy, metrics=['accuracy'])"
      ]
    },
    {
      "cell_type": "markdown",
      "metadata": {
        "id": "SA1DObIifkoJ"
      },
      "source": [
        "##check the model"
      ]
    },
    {
      "cell_type": "code",
      "execution_count": null,
      "metadata": {
        "colab": {
          "base_uri": "https://localhost:8080/"
        },
        "id": "hvbMyfuBfodu",
        "outputId": "8a76c839-c3f3-4e69-bbd3-ac6a8be4cbc3"
      },
      "outputs": [
        {
          "output_type": "stream",
          "name": "stdout",
          "text": [
            "Model: \"sequential\"\n",
            "_________________________________________________________________\n",
            " Layer (type)                Output Shape              Param #   \n",
            "=================================================================\n",
            " vgg16 (Functional)          (None, 8, 8, 512)         14714688  \n",
            "                                                                 \n",
            " flatten (Flatten)           (None, 32768)             0         \n",
            "                                                                 \n",
            " dense (Dense)               (None, 256)               8388864   \n",
            "                                                                 \n",
            " dense_1 (Dense)             (None, 256)               65792     \n",
            "                                                                 \n",
            " dense_2 (Dense)             (None, 2)                 514       \n",
            "                                                                 \n",
            "=================================================================\n",
            "Total params: 23,169,858\n",
            "Trainable params: 8,455,170\n",
            "Non-trainable params: 14,714,688\n",
            "_________________________________________________________________\n"
          ]
        }
      ],
      "source": [
        "model.summary()"
      ]
    },
    {
      "cell_type": "markdown",
      "metadata": {
        "id": "nwbWHoU_f064"
      },
      "source": [
        "##train the data"
      ]
    },
    {
      "cell_type": "code",
      "execution_count": null,
      "metadata": {
        "colab": {
          "base_uri": "https://localhost:8080/"
        },
        "id": "gpJbcGFpf4L0",
        "outputId": "69cdf96c-3257-484f-a603-d7a6650adab9"
      },
      "outputs": [
        {
          "output_type": "stream",
          "name": "stderr",
          "text": [
            "/usr/local/lib/python3.7/dist-packages/ipykernel_launcher.py:1: UserWarning: `Model.fit_generator` is deprecated and will be removed in a future version. Please use `Model.fit`, which supports generators.\n",
            "  \"\"\"Entry point for launching an IPython kernel.\n"
          ]
        },
        {
          "output_type": "stream",
          "name": "stdout",
          "text": [
            "Epoch 1/10\n",
            "10/10 [==============================] - 465s 44s/step - loss: 2.5533 - accuracy: 0.5750 - val_loss: 0.4100 - val_accuracy: 0.8625\n",
            "Epoch 2/10\n",
            "10/10 [==============================] - 361s 38s/step - loss: 0.7261 - accuracy: 0.7312 - val_loss: 0.3953 - val_accuracy: 0.8375\n",
            "Epoch 3/10\n",
            "10/10 [==============================] - 362s 38s/step - loss: 0.3671 - accuracy: 0.8375 - val_loss: 0.2703 - val_accuracy: 0.9083\n",
            "Epoch 4/10\n",
            "10/10 [==============================] - 360s 37s/step - loss: 0.2893 - accuracy: 0.8875 - val_loss: 0.2234 - val_accuracy: 0.9250\n",
            "Epoch 5/10\n",
            "10/10 [==============================] - 409s 43s/step - loss: 0.2967 - accuracy: 0.8656 - val_loss: 0.2079 - val_accuracy: 0.9125\n",
            "Epoch 6/10\n",
            "10/10 [==============================] - 363s 38s/step - loss: 0.2173 - accuracy: 0.9187 - val_loss: 0.1989 - val_accuracy: 0.9250\n",
            "Epoch 7/10\n",
            "10/10 [==============================] - 361s 37s/step - loss: 0.1353 - accuracy: 0.9438 - val_loss: 0.2798 - val_accuracy: 0.9042\n",
            "Epoch 8/10\n",
            "10/10 [==============================] - 360s 38s/step - loss: 0.1904 - accuracy: 0.9094 - val_loss: 0.2875 - val_accuracy: 0.9042\n",
            "Epoch 9/10\n",
            "10/10 [==============================] - 363s 38s/step - loss: 0.1932 - accuracy: 0.9219 - val_loss: 0.1865 - val_accuracy: 0.9333\n",
            "Epoch 10/10\n",
            "10/10 [==============================] - 359s 37s/step - loss: 0.1965 - accuracy: 0.9312 - val_loss: 0.4525 - val_accuracy: 0.8458\n"
          ]
        },
        {
          "output_type": "execute_result",
          "data": {
            "text/plain": [
              "<keras.callbacks.History at 0x7faae1203f10>"
            ]
          },
          "metadata": {},
          "execution_count": 7
        }
      ],
      "source": [
        "model.fit_generator(train, steps_per_epoch=10,epochs=10,validation_steps=8, validation_data=test)"
      ]
    },
    {
      "cell_type": "markdown",
      "source": [
        "## random image"
      ],
      "metadata": {
        "id": "O0XqncgPaskj"
      }
    },
    {
      "cell_type": "markdown",
      "source": [
        "non covid random image"
      ],
      "metadata": {
        "id": "AfS0uSZKf6zu"
      }
    },
    {
      "cell_type": "code",
      "source": [
        "path= \"/content/normal.jpeg\"\n",
        "img=image.load_img(path,target_size=(256,256))\n",
        "img= image.img_to_array(img)/255\n",
        "img=np.array([img])\n",
        "img.shape"
      ],
      "metadata": {
        "colab": {
          "base_uri": "https://localhost:8080/"
        },
        "id": "ii1V4iQsav9y",
        "outputId": "4a2f2ae6-e211-4a19-f453-0ebbb0f52218"
      },
      "execution_count": null,
      "outputs": [
        {
          "output_type": "execute_result",
          "data": {
            "text/plain": [
              "(1, 256, 256, 3)"
            ]
          },
          "metadata": {},
          "execution_count": 9
        }
      ]
    },
    {
      "cell_type": "code",
      "source": [
        "model.predict(img)"
      ],
      "metadata": {
        "colab": {
          "base_uri": "https://localhost:8080/"
        },
        "id": "Qw83EAZqd7jB",
        "outputId": "169e051c-0c96-4f34-a8a5-3c6c41a31476"
      },
      "execution_count": null,
      "outputs": [
        {
          "output_type": "execute_result",
          "data": {
            "text/plain": [
              "array([[0.10351237, 0.89648765]], dtype=float32)"
            ]
          },
          "metadata": {},
          "execution_count": 11
        }
      ]
    },
    {
      "cell_type": "markdown",
      "source": [
        "covid image"
      ],
      "metadata": {
        "id": "j0hYMYDEf9zB"
      }
    },
    {
      "cell_type": "code",
      "source": [
        "path= \"/content/COVID-3322.png\"\n",
        "img=image.load_img(path,target_size=(256,256))\n",
        "img= image.img_to_array(img)/255\n",
        "img=np.array([img])\n",
        "img.shape"
      ],
      "metadata": {
        "colab": {
          "base_uri": "https://localhost:8080/"
        },
        "id": "OWmTpGZuerbt",
        "outputId": "0336983c-f229-458c-ee92-80922b6b6534"
      },
      "execution_count": null,
      "outputs": [
        {
          "output_type": "execute_result",
          "data": {
            "text/plain": [
              "(1, 256, 256, 3)"
            ]
          },
          "metadata": {},
          "execution_count": 18
        }
      ]
    },
    {
      "cell_type": "code",
      "source": [
        "model.predict(img)"
      ],
      "metadata": {
        "colab": {
          "base_uri": "https://localhost:8080/"
        },
        "id": "Hy02_wbDexye",
        "outputId": "f203d001-bfcf-4c7f-a1a0-5f5a2b53da7b"
      },
      "execution_count": null,
      "outputs": [
        {
          "output_type": "execute_result",
          "data": {
            "text/plain": [
              "array([[0.99888986, 0.0011101 ]], dtype=float32)"
            ]
          },
          "metadata": {},
          "execution_count": 19
        }
      ]
    }
  ],
  "metadata": {
    "colab": {
      "collapsed_sections": [],
      "name": "vgg16.ipynb",
      "provenance": []
    },
    "kernelspec": {
      "display_name": "Python 3",
      "name": "python3"
    },
    "language_info": {
      "name": "python"
    }
  },
  "nbformat": 4,
  "nbformat_minor": 0
}