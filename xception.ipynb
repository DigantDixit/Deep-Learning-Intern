{
  "nbformat": 4,
  "nbformat_minor": 0,
  "metadata": {
    "colab": {
      "name": "xception.ipynb",
      "provenance": []
    },
    "kernelspec": {
      "name": "python3",
      "display_name": "Python 3"
    },
    "language_info": {
      "name": "python"
    }
  },
  "cells": [
    {
      "cell_type": "markdown",
      "source": [
        "accuracy is adound 90 when dernse(512)\n",
        "\n",
        "accu is 91 when dense(256)"
      ],
      "metadata": {
        "id": "9R5_SBUj25Yh"
      }
    },
    {
      "cell_type": "code",
      "execution_count": null,
      "metadata": {
        "id": "F5s4vJgFpZ9z"
      },
      "outputs": [],
      "source": [
        "import numpy as np\n",
        "import pandas as pd\n",
        "\n",
        "import keras,os\n",
        "from keras.layers import Conv2D, MaxPool2D,Dropout,Flatten,Dense\n",
        "from keras.preprocessing import image \n",
        "from keras.models import Sequential"
      ]
    },
    {
      "cell_type": "code",
      "source": [
        ""
      ],
      "metadata": {
        "id": "ypkOJ1RZ_Ebr"
      },
      "execution_count": null,
      "outputs": []
    },
    {
      "cell_type": "code",
      "source": [
        "train_data_gen = image.ImageDataGenerator(rescale= 1./255)\n",
        "train = train_data_gen.flow_from_directory(directory=\"/content/drive/MyDrive/x-ray data/train\" , target_size=(256,256) , batch_size=32, class_mode = 'binary')"
      ],
      "metadata": {
        "colab": {
          "base_uri": "https://localhost:8080/"
        },
        "id": "0uJLLa4wft--",
        "outputId": "b8694470-5405-496b-9d54-25a653aa820d"
      },
      "execution_count": null,
      "outputs": [
        {
          "output_type": "stream",
          "name": "stdout",
          "text": [
            "Found 4852 images belonging to 2 classes.\n"
          ]
        }
      ]
    },
    {
      "cell_type": "code",
      "source": [
        "train_data_gen = image.ImageDataGenerator(rescale= 1./255)\n",
        "test = train_data_gen.flow_from_directory(directory=\"/content/drive/MyDrive/x-ray data/test\" , target_size=(256,256) , batch_size=32,  class_mode = 'binary')"
      ],
      "metadata": {
        "colab": {
          "base_uri": "https://localhost:8080/"
        },
        "id": "BIfzR_3tgpKx",
        "outputId": "22f37164-802e-48e6-d142-b6ab20afce6e"
      },
      "execution_count": null,
      "outputs": [
        {
          "output_type": "stream",
          "name": "stdout",
          "text": [
            "Found 240 images belonging to 2 classes.\n"
          ]
        }
      ]
    },
    {
      "cell_type": "code",
      "source": [
        "from tensorflow.keras.applications import Xception\n",
        "xcept = Xception(input_shape = (256, 256, 3), include_top = False, weights = 'imagenet')"
      ],
      "metadata": {
        "id": "7qNlnzYkplpR",
        "colab": {
          "base_uri": "https://localhost:8080/"
        },
        "outputId": "9e30eb4b-c0f1-451b-f6be-87f8cfb5ee9e"
      },
      "execution_count": null,
      "outputs": [
        {
          "output_type": "stream",
          "name": "stdout",
          "text": [
            "Downloading data from https://storage.googleapis.com/tensorflow/keras-applications/xception/xception_weights_tf_dim_ordering_tf_kernels_notop.h5\n",
            "83689472/83683744 [==============================] - 1s 0us/step\n",
            "83697664/83683744 [==============================] - 1s 0us/step\n"
          ]
        }
      ]
    },
    {
      "cell_type": "code",
      "source": [
        "for layer in xcept.layers:\n",
        "    layer.trainable = False\n",
        "\n",
        "\n",
        "model=keras.Sequential([\n",
        "    xcept,\n",
        "    keras.layers.Flatten(), #flattern the above data\n",
        "    #keras.layers.Dense(units=256, activation=\"relu\"),\n",
        "    keras.layers.Dense(units=256, activation=\"relu\"),\n",
        "    keras.layers.Dropout(0.2),\n",
        "    keras.layers.Dense(units=1, activation=\"sigmoid\"),\n",
        "])\n",
        "\n",
        "model.compile(optimizer=\"adam\",loss='binary_crossentropy',metrics=['accuracy'])"
      ],
      "metadata": {
        "id": "XCuP0n_zp4Md"
      },
      "execution_count": null,
      "outputs": []
    },
    {
      "cell_type": "code",
      "source": [
        "model.summary()"
      ],
      "metadata": {
        "colab": {
          "base_uri": "https://localhost:8080/"
        },
        "id": "UB1kv8WvqySe",
        "outputId": "c1d019f2-64f3-4085-c48d-771f55a94387"
      },
      "execution_count": null,
      "outputs": [
        {
          "output_type": "stream",
          "name": "stdout",
          "text": [
            "Model: \"sequential_5\"\n",
            "_________________________________________________________________\n",
            " Layer (type)                Output Shape              Param #   \n",
            "=================================================================\n",
            " xception (Functional)       (None, 8, 8, 2048)        20861480  \n",
            "                                                                 \n",
            " flatten_5 (Flatten)         (None, 131072)            0         \n",
            "                                                                 \n",
            " dense_11 (Dense)            (None, 256)               33554688  \n",
            "                                                                 \n",
            " dropout_5 (Dropout)         (None, 256)               0         \n",
            "                                                                 \n",
            " dense_12 (Dense)            (None, 1)                 257       \n",
            "                                                                 \n",
            "=================================================================\n",
            "Total params: 54,416,425\n",
            "Trainable params: 33,554,945\n",
            "Non-trainable params: 20,861,480\n",
            "_________________________________________________________________\n"
          ]
        }
      ]
    },
    {
      "cell_type": "code",
      "source": [
        "model.fit_generator(train, steps_per_epoch=10,epochs=10,validation_steps=8, validation_data=test)"
      ],
      "metadata": {
        "colab": {
          "base_uri": "https://localhost:8080/"
        },
        "id": "ryerqeZQhOZT",
        "outputId": "f7d08a81-5c90-4e1d-d72f-a43ae3186f2c"
      },
      "execution_count": null,
      "outputs": [
        {
          "output_type": "stream",
          "name": "stderr",
          "text": [
            "/usr/local/lib/python3.7/dist-packages/ipykernel_launcher.py:1: UserWarning: `Model.fit_generator` is deprecated and will be removed in a future version. Please use `Model.fit`, which supports generators.\n",
            "  \"\"\"Entry point for launching an IPython kernel.\n"
          ]
        },
        {
          "output_type": "stream",
          "name": "stdout",
          "text": [
            "Epoch 1/10\n",
            "10/10 [==============================] - 140s 14s/step - loss: 6.7556 - accuracy: 0.7094 - val_loss: 8.5282 - val_accuracy: 0.6875\n",
            "Epoch 2/10\n",
            "10/10 [==============================] - 146s 15s/step - loss: 4.7874 - accuracy: 0.7563 - val_loss: 2.9225 - val_accuracy: 0.8167\n",
            "Epoch 3/10\n",
            "10/10 [==============================] - 143s 15s/step - loss: 2.8182 - accuracy: 0.8188 - val_loss: 1.5721 - val_accuracy: 0.8750\n",
            "Epoch 4/10\n",
            "10/10 [==============================] - 145s 15s/step - loss: 1.0637 - accuracy: 0.8844 - val_loss: 1.7320 - val_accuracy: 0.8583\n",
            "Epoch 5/10\n",
            "10/10 [==============================] - 148s 15s/step - loss: 1.1050 - accuracy: 0.8406 - val_loss: 1.3984 - val_accuracy: 0.8208\n",
            "Epoch 6/10\n",
            "10/10 [==============================] - 149s 15s/step - loss: 0.9003 - accuracy: 0.8469 - val_loss: 0.8530 - val_accuracy: 0.8875\n",
            "Epoch 7/10\n",
            "10/10 [==============================] - 149s 15s/step - loss: 0.4629 - accuracy: 0.9000 - val_loss: 0.9176 - val_accuracy: 0.8417\n",
            "Epoch 8/10\n",
            "10/10 [==============================] - 148s 15s/step - loss: 0.6503 - accuracy: 0.8531 - val_loss: 0.4814 - val_accuracy: 0.9125\n",
            "Epoch 9/10\n",
            "10/10 [==============================] - 146s 15s/step - loss: 0.3109 - accuracy: 0.8781 - val_loss: 0.4241 - val_accuracy: 0.9125\n",
            "Epoch 10/10\n",
            "10/10 [==============================] - 146s 15s/step - loss: 0.2997 - accuracy: 0.8906 - val_loss: 0.3601 - val_accuracy: 0.9042\n"
          ]
        },
        {
          "output_type": "execute_result",
          "data": {
            "text/plain": [
              "<keras.callbacks.History at 0x7f723c1f9c90>"
            ]
          },
          "metadata": {},
          "execution_count": 18
        }
      ]
    }
  ]
}